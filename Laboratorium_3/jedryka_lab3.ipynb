{
 "cells": [
  {
   "cell_type": "markdown",
   "id": "dbdf0246-17ad-4607-81ed-347177c652a2",
   "metadata": {},
   "source": [
    " # Za pomocą języka R przeanalizować dowolne dane z poprzednich laboratoriów. Elementy obowiązkowe:\n",
    "\n",
    "1. W jednej tabeli języka R należy umieścić wyniki dwóch różnych eksperymentów (t.j. czas działania dwóch różnych funkcji) dla różnych parametrów (t.j. rozmiarów wektora(macierzy)). Tabela powinna zawierać dane z 10-krotnego uruchomienia tego samego eksperymentu dla tych samych parametrów (dla każdego takiego zestawu)  **(1p.)**\n",
    "2. Należy przedstawić wykresy średnich czasów obliczenia wybranych funkcji w zależności od rozmiaru wektora (macierzy) **(1p.)**\n",
    "3. Wykresy powinny zawierać informację o odchyleniu standardowym dla uzyskanych wyników (słupki błędów)  **(1p.)**"
   ]
  },
  {
   "cell_type": "code",
   "execution_count": 33,
   "id": "9edcf895-8494-4fb8-ae3a-2243a34dfcac",
   "metadata": {},
   "outputs": [],
   "source": [
    "results = read.csv(\"time_results.csv\")"
   ]
  },
  {
   "cell_type": "code",
   "execution_count": 34,
   "id": "38837c95-379d-479a-8206-f811f1f753fe",
   "metadata": {},
   "outputs": [
    {
     "name": "stdout",
     "output_type": "stream",
     "text": [
      "          algorithm      time vector_size\n",
      "1    Scalar Product 0.0000025          50\n",
      "2    Scalar Product 0.0000003          50\n",
      "3    Scalar Product 0.0000003          50\n",
      "4    Scalar Product 0.0000006          50\n",
      "5    Scalar Product 0.0000001          50\n",
      "6    Scalar Product 0.0000006          50\n",
      "7    Scalar Product 0.0000002          50\n",
      "8    Scalar Product 0.0000002          50\n",
      "9    Scalar Product 0.0000002          50\n",
      "10   Scalar Product 0.0000005          50\n",
      "11  Multiply Matrix 0.0000019          50\n",
      "12  Multiply Matrix 0.0000016          50\n",
      "13  Multiply Matrix 0.0000016          50\n",
      "14  Multiply Matrix 0.0000016          50\n",
      "15  Multiply Matrix 0.0000011          50\n",
      "16  Multiply Matrix 0.0000012          50\n",
      "17  Multiply Matrix 0.0000020          50\n",
      "18  Multiply Matrix 0.0000011          50\n",
      "19  Multiply Matrix 0.0000011          50\n",
      "20  Multiply Matrix 0.0000011          50\n",
      "21   Scalar Product 0.0000018         100\n",
      "22   Scalar Product 0.0000003         100\n",
      "23   Scalar Product 0.0000003         100\n",
      "24   Scalar Product 0.0000002         100\n",
      "25   Scalar Product 0.0000002         100\n",
      "26   Scalar Product 0.0000005         100\n",
      "27   Scalar Product 0.0000002         100\n",
      "28   Scalar Product 0.0000007         100\n",
      "29   Scalar Product 0.0000002         100\n",
      "30   Scalar Product 0.0000002         100\n",
      "31  Multiply Matrix 0.0000039         100\n",
      "32  Multiply Matrix 0.0000039         100\n",
      "33  Multiply Matrix 0.0000041         100\n",
      "34  Multiply Matrix 0.0000043         100\n",
      "35  Multiply Matrix 0.0000040         100\n",
      "36  Multiply Matrix 0.0000039         100\n",
      "37  Multiply Matrix 0.0000039         100\n",
      "38  Multiply Matrix 0.0000039         100\n",
      "39  Multiply Matrix 0.0000049         100\n",
      "40  Multiply Matrix 0.0000040         100\n",
      "41   Scalar Product 0.0000122         300\n",
      "42   Scalar Product 0.0000044         300\n",
      "43   Scalar Product 0.0000025         300\n",
      "44   Scalar Product 0.0000018         300\n",
      "45   Scalar Product 0.0000018         300\n",
      "46   Scalar Product 0.0000019         300\n",
      "47   Scalar Product 0.0000019         300\n",
      "48   Scalar Product 0.0000043         300\n",
      "49   Scalar Product 0.0000022         300\n",
      "50   Scalar Product 0.0000020         300\n",
      "51  Multiply Matrix 0.0000765         300\n",
      "52  Multiply Matrix 0.0000711         300\n",
      "53  Multiply Matrix 0.0000753         300\n",
      "54  Multiply Matrix 0.0000729         300\n",
      "55  Multiply Matrix 0.0000786         300\n",
      "56  Multiply Matrix 0.0001191         300\n",
      "57  Multiply Matrix 0.0001886         300\n",
      "58  Multiply Matrix 0.0002022         300\n",
      "59  Multiply Matrix 0.0001772         300\n",
      "60  Multiply Matrix 0.0002319         300\n",
      "61   Scalar Product 0.0000127         500\n",
      "62   Scalar Product 0.0000100         500\n",
      "63   Scalar Product 0.0000052         500\n",
      "64   Scalar Product 0.0000029         500\n",
      "65   Scalar Product 0.0000023         500\n",
      "66   Scalar Product 0.0000026         500\n",
      "67   Scalar Product 0.0000049         500\n",
      "68   Scalar Product 0.0000037         500\n",
      "69   Scalar Product 0.0000034         500\n",
      "70   Scalar Product 0.0000027         500\n",
      "71  Multiply Matrix 0.0002202         500\n",
      "72  Multiply Matrix 0.0002119         500\n",
      "73  Multiply Matrix 0.0002197         500\n",
      "74  Multiply Matrix 0.0002534         500\n",
      "75  Multiply Matrix 0.0003204         500\n",
      "76  Multiply Matrix 0.0002523         500\n",
      "77  Multiply Matrix 0.0002494         500\n",
      "78  Multiply Matrix 0.0002499         500\n",
      "79  Multiply Matrix 0.0002266         500\n",
      "80  Multiply Matrix 0.0002177         500\n",
      "81   Scalar Product 0.0000121         750\n",
      "82   Scalar Product 0.0000060         750\n",
      "83   Scalar Product 0.0000062         750\n",
      "84   Scalar Product 0.0000055         750\n",
      "85   Scalar Product 0.0000150         750\n",
      "86   Scalar Product 0.0000216         750\n",
      "87   Scalar Product 0.0000067         750\n",
      "88   Scalar Product 0.0000082         750\n",
      "89   Scalar Product 0.0000046         750\n",
      "90   Scalar Product 0.0000094         750\n",
      "91  Multiply Matrix 0.0006000         750\n",
      "92  Multiply Matrix 0.0005529         750\n",
      "93  Multiply Matrix 0.0005621         750\n",
      "94  Multiply Matrix 0.0005481         750\n",
      "95  Multiply Matrix 0.0005791         750\n",
      "96  Multiply Matrix 0.0005910         750\n",
      "97  Multiply Matrix 0.0005639         750\n",
      "98  Multiply Matrix 0.0005990         750\n",
      "99  Multiply Matrix 0.0005564         750\n",
      "100 Multiply Matrix 0.0005815         750\n",
      "101  Scalar Product 0.0000299        1000\n",
      "102  Scalar Product 0.0000058        1000\n",
      "103  Scalar Product 0.0000054        1000\n",
      "104  Scalar Product 0.0000055        1000\n",
      "105  Scalar Product 0.0000199        1000\n",
      "106  Scalar Product 0.0000070        1000\n",
      "107  Scalar Product 0.0000062        1000\n",
      "108  Scalar Product 0.0000053        1000\n",
      "109  Scalar Product 0.0000069        1000\n",
      "110  Scalar Product 0.0000051        1000\n",
      "111 Multiply Matrix 0.0007225        1000\n",
      "112 Multiply Matrix 0.0007727        1000\n",
      "113 Multiply Matrix 0.0007426        1000\n",
      "114 Multiply Matrix 0.0007217        1000\n",
      "115 Multiply Matrix 0.0006660        1000\n",
      "116 Multiply Matrix 0.0006986        1000\n",
      "117 Multiply Matrix 0.0009874        1000\n",
      "118 Multiply Matrix 0.0012542        1000\n",
      "119 Multiply Matrix 0.0012199        1000\n",
      "120 Multiply Matrix 0.0045995        1000\n"
     ]
    }
   ],
   "source": [
    "print(results)"
   ]
  },
  {
   "cell_type": "code",
   "execution_count": 35,
   "id": "eb8ccab6-f21e-41bc-aa2c-aa96e13e2d48",
   "metadata": {},
   "outputs": [],
   "source": [
    "avg_results <- aggregate(time ~ algorithm:vector_size, data=results, FUN=mean)"
   ]
  },
  {
   "cell_type": "code",
   "execution_count": 36,
   "id": "629e2b60-8131-4ce7-bfae-bee32e224300",
   "metadata": {},
   "outputs": [
    {
     "name": "stdout",
     "output_type": "stream",
     "text": [
      "         algorithm vector_size       time\n",
      "1  Multiply Matrix          50 0.00000143\n",
      "2   Scalar Product          50 0.00000055\n",
      "3  Multiply Matrix         100 0.00000408\n",
      "4   Scalar Product         100 0.00000046\n",
      "5  Multiply Matrix         300 0.00012934\n",
      "6   Scalar Product         300 0.00000350\n",
      "7  Multiply Matrix         500 0.00024215\n",
      "8   Scalar Product         500 0.00000504\n",
      "9  Multiply Matrix         750 0.00057340\n",
      "10  Scalar Product         750 0.00000953\n",
      "11 Multiply Matrix        1000 0.00123851\n",
      "12  Scalar Product        1000 0.00000970\n"
     ]
    }
   ],
   "source": [
    "print(avg_results)"
   ]
  },
  {
   "cell_type": "code",
   "execution_count": 37,
   "id": "8a58b4c8-228e-4808-b7f4-c05f373ef53a",
   "metadata": {},
   "outputs": [],
   "source": [
    "avg_results$sd <- aggregate(time ~ algorithm:vector_size, data=results, FUN=sd)$time"
   ]
  },
  {
   "cell_type": "code",
   "execution_count": 38,
   "id": "3285bdbb-e655-4bef-9f8e-818107220378",
   "metadata": {},
   "outputs": [
    {
     "name": "stdout",
     "output_type": "stream",
     "text": [
      "         algorithm vector_size       time           sd\n",
      "1  Multiply Matrix          50 0.00000143 3.529243e-07\n",
      "2   Scalar Product          50 0.00000055 7.074995e-07\n",
      "3  Multiply Matrix         100 0.00000408 3.155243e-07\n",
      "4   Scalar Product         100 0.00000046 4.993329e-07\n",
      "5  Multiply Matrix         300 0.00012934 6.376922e-05\n",
      "6   Scalar Product         300 0.00000350 3.214205e-06\n",
      "7  Multiply Matrix         500 0.00024215 3.198219e-05\n",
      "8   Scalar Product         500 0.00000504 3.517006e-06\n",
      "9  Multiply Matrix         750 0.00057340 1.925865e-05\n",
      "10  Scalar Product         750 0.00000953 5.334385e-06\n",
      "11 Multiply Matrix        1000 0.00123851 1.200714e-03\n",
      "12  Scalar Product        1000 0.00000970 8.375361e-06\n"
     ]
    }
   ],
   "source": [
    "print(avg_results)"
   ]
  },
  {
   "cell_type": "code",
   "execution_count": 39,
   "id": "1194a356-a28b-4136-b256-0e9ece63c127",
   "metadata": {},
   "outputs": [
    {
     "data": {
      "image/png": "[encoded data removed]",
      "text/plain": [
       "plot without title"
      ]
     },
     "metadata": {
      "image/png": {
       "height": 420,
       "width": 420
      }
     },
     "output_type": "display_data"
    }
   ],
   "source": [
    "ggplot(avg_results, aes(vector_size, time, color=algorithm)) + geom_point() + ylab(\"Computing time in seconds\") + \n",
    "    geom_errorbar(aes(ymin = time-sd, ymax = time+sd))\n"
   ]
  }
 ],
 "metadata": {
  "kernelspec": {
   "display_name": "R",
   "language": "R",
   "name": "ir"
  },
  "language_info": {
   "codemirror_mode": "r",
   "file_extension": ".r",
   "mimetype": "text/x-r-source",
   "name": "R",
   "pygments_lexer": "r",
   "version": "4.1.3"
  }
 },
 "nbformat": 4,
 "nbformat_minor": 5
}
